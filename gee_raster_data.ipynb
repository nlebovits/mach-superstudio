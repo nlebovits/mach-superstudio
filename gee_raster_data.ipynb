{
 "cells": [
  {
   "cell_type": "code",
   "execution_count": 1,
   "metadata": {},
   "outputs": [],
   "source": [
    "import ee\n",
    "import geemap\n",
    "import geopandas as gpd"
   ]
  },
  {
   "cell_type": "code",
   "execution_count": 2,
   "metadata": {},
   "outputs": [
    {
     "data": {
      "text/html": [
       "\n",
       "            <style>\n",
       "                .geemap-dark {\n",
       "                    --jp-widgets-color: white;\n",
       "                    --jp-widgets-label-color: white;\n",
       "                    --jp-ui-font-color1: white;\n",
       "                    --jp-layout-color2: #454545;\n",
       "                    background-color: #383838;\n",
       "                }\n",
       "                    \n",
       "                .geemap-dark .jupyter-button {\n",
       "                    --jp-layout-color3: #383838;\n",
       "                }\n",
       "                \n",
       "                .geemap-colab {\n",
       "                    background-color: var(--colab-primary-surface-color, white);\n",
       "                }\n",
       "                    \n",
       "                .geemap-colab .jupyter-button {\n",
       "                    --jp-layout-color3: var(--colab-primary-surface-color, white);\n",
       "                }\n",
       "            </style>\n",
       "            "
      ],
      "text/plain": [
       "<IPython.core.display.HTML object>"
      ]
     },
     "metadata": {},
     "output_type": "display_data"
    },
    {
     "data": {
      "text/html": [
       "<p>To authorize access needed by Earth Engine, open the following\n",
       "        URL in a web browser and follow the instructions:</p>\n",
       "        <p><a href=https://code.earthengine.google.com/client-auth?scopes=https%3A//www.googleapis.com/auth/earthengine%20https%3A//www.googleapis.com/auth/devstorage.full_control&request_id=23lWhyvJb_0H9ODqEadyJyaJ54aAZOx9-Iww00OuC4k&tc=TrfrhhGv7I4TuFL127PDhXDF5ijTZAceQT24GK7SOb4&cc=-l57KD7iq9DfNgLPG12iy3GAt4uaXWgs4Mn1M-2Fm_w>https://code.earthengine.google.com/client-auth?scopes=https%3A//www.googleapis.com/auth/earthengine%20https%3A//www.googleapis.com/auth/devstorage.full_control&request_id=23lWhyvJb_0H9ODqEadyJyaJ54aAZOx9-Iww00OuC4k&tc=TrfrhhGv7I4TuFL127PDhXDF5ijTZAceQT24GK7SOb4&cc=-l57KD7iq9DfNgLPG12iy3GAt4uaXWgs4Mn1M-2Fm_w</a></p>\n",
       "        <p>The authorization workflow will generate a code, which you should paste in the box below.</p>\n",
       "        "
      ],
      "text/plain": [
       "<IPython.core.display.HTML object>"
      ]
     },
     "metadata": {},
     "output_type": "display_data"
    },
    {
     "name": "stdout",
     "output_type": "stream",
     "text": [
      "\n",
      "Successfully saved authorization token.\n"
     ]
    }
   ],
   "source": [
    "ee.Authenticate()\n",
    "ee.Initialize()"
   ]
  },
  {
   "cell_type": "code",
   "execution_count": 3,
   "metadata": {},
   "outputs": [
    {
     "data": {
      "text/html": [
       "\n",
       "            <style>\n",
       "                .geemap-dark {\n",
       "                    --jp-widgets-color: white;\n",
       "                    --jp-widgets-label-color: white;\n",
       "                    --jp-ui-font-color1: white;\n",
       "                    --jp-layout-color2: #454545;\n",
       "                    background-color: #383838;\n",
       "                }\n",
       "                    \n",
       "                .geemap-dark .jupyter-button {\n",
       "                    --jp-layout-color3: #383838;\n",
       "                }\n",
       "                \n",
       "                .geemap-colab {\n",
       "                    background-color: var(--colab-primary-surface-color, white);\n",
       "                }\n",
       "                    \n",
       "                .geemap-colab .jupyter-button {\n",
       "                    --jp-layout-color3: var(--colab-primary-surface-color, white);\n",
       "                }\n",
       "            </style>\n",
       "            "
      ],
      "text/plain": [
       "<IPython.core.display.HTML object>"
      ]
     },
     "metadata": {},
     "output_type": "display_data"
    }
   ],
   "source": [
    "Map = geemap.Map()"
   ]
  },
  {
   "cell_type": "code",
   "execution_count": 4,
   "metadata": {},
   "outputs": [
    {
     "data": {
      "text/html": [
       "\n",
       "            <style>\n",
       "                .geemap-dark {\n",
       "                    --jp-widgets-color: white;\n",
       "                    --jp-widgets-label-color: white;\n",
       "                    --jp-ui-font-color1: white;\n",
       "                    --jp-layout-color2: #454545;\n",
       "                    background-color: #383838;\n",
       "                }\n",
       "                    \n",
       "                .geemap-dark .jupyter-button {\n",
       "                    --jp-layout-color3: #383838;\n",
       "                }\n",
       "                \n",
       "                .geemap-colab {\n",
       "                    background-color: var(--colab-primary-surface-color, white);\n",
       "                }\n",
       "                    \n",
       "                .geemap-colab .jupyter-button {\n",
       "                    --jp-layout-color3: var(--colab-primary-surface-color, white);\n",
       "                }\n",
       "            </style>\n",
       "            "
      ],
      "text/plain": [
       "<IPython.core.display.HTML object>"
      ]
     },
     "metadata": {},
     "output_type": "display_data"
    }
   ],
   "source": [
    "dataset = ee.ImageCollection('USGS/NLCD_RELEASES/2021_REL/TCC/v2021-4')\n",
    "# Filter collection to 2021 and CONUS study area\n",
    "tcc = dataset.filter(ee.Filter.calendarRange(2021, 2021, 'year')) \\\n",
    "             .filter(ee.Filter.eq('study_area', 'CONUS')) \\\n",
    "             .first()"
   ]
  },
  {
   "cell_type": "code",
   "execution_count": 5,
   "metadata": {},
   "outputs": [
    {
     "data": {
      "text/html": [
       "\n",
       "            <style>\n",
       "                .geemap-dark {\n",
       "                    --jp-widgets-color: white;\n",
       "                    --jp-widgets-label-color: white;\n",
       "                    --jp-ui-font-color1: white;\n",
       "                    --jp-layout-color2: #454545;\n",
       "                    background-color: #383838;\n",
       "                }\n",
       "                    \n",
       "                .geemap-dark .jupyter-button {\n",
       "                    --jp-layout-color3: #383838;\n",
       "                }\n",
       "                \n",
       "                .geemap-colab {\n",
       "                    background-color: var(--colab-primary-surface-color, white);\n",
       "                }\n",
       "                    \n",
       "                .geemap-colab .jupyter-button {\n",
       "                    --jp-layout-color3: var(--colab-primary-surface-color, white);\n",
       "                }\n",
       "            </style>\n",
       "            "
      ],
      "text/plain": [
       "<IPython.core.display.HTML object>"
      ]
     },
     "metadata": {},
     "output_type": "display_data"
    }
   ],
   "source": [
    "# TCC palette\n",
    "tcc_palette = [\n",
    "    'CDA066', 'D7C29E', 'C2D096', 'B7D692', 'ADDD8E',\n",
    "    '78C679', '5CB86B', '41AB5D', '39A156', '329750',\n",
    "    '238443', '11763D', '006837', '004529'\n",
    "]\n",
    "\n",
    "# SE palette\n",
    "se_palette = ['000000', 'FFFFFF']"
   ]
  },
  {
   "cell_type": "code",
   "execution_count": 6,
   "metadata": {},
   "outputs": [
    {
     "data": {
      "text/html": [
       "\n",
       "            <style>\n",
       "                .geemap-dark {\n",
       "                    --jp-widgets-color: white;\n",
       "                    --jp-widgets-label-color: white;\n",
       "                    --jp-ui-font-color1: white;\n",
       "                    --jp-layout-color2: #454545;\n",
       "                    background-color: #383838;\n",
       "                }\n",
       "                    \n",
       "                .geemap-dark .jupyter-button {\n",
       "                    --jp-layout-color3: #383838;\n",
       "                }\n",
       "                \n",
       "                .geemap-colab {\n",
       "                    background-color: var(--colab-primary-surface-color, white);\n",
       "                }\n",
       "                    \n",
       "                .geemap-colab .jupyter-button {\n",
       "                    --jp-layout-color3: var(--colab-primary-surface-color, white);\n",
       "                }\n",
       "            </style>\n",
       "            "
      ],
      "text/plain": [
       "<IPython.core.display.HTML object>"
      ]
     },
     "metadata": {},
     "output_type": "display_data"
    }
   ],
   "source": [
    "# Add layers to the map\n",
    "Map.addLayer(tcc.select('data_mask'), {'min': 0, 'max': 2}, 'Data Mask', False)\n",
    "# Map.addLayer(tcc.select('Science_Percent_Tree_Canopy_Cover'), {'min': 0, 'max': 60, 'palette': tcc_palette}, 'Science Percent Tree Canopy Cover')\n",
    "# Map.addLayer(tcc.select('Science_Percent_Tree_Canopy_Cover_Standard_Error'), {'min': 0, 'max': 4000, 'palette': se_palette}, 'Science Percent Tree Canopy Cover Standard Error')\n",
    "Map.addLayer(tcc.select('NLCD_Percent_Tree_Canopy_Cover'), {'min': 0, 'max': 60, 'palette': tcc_palette}, 'NLCD Percent Tree Canopy Cover')"
   ]
  },
  {
   "cell_type": "code",
   "execution_count": 7,
   "metadata": {},
   "outputs": [
    {
     "data": {
      "text/html": [
       "\n",
       "            <style>\n",
       "                .geemap-dark {\n",
       "                    --jp-widgets-color: white;\n",
       "                    --jp-widgets-label-color: white;\n",
       "                    --jp-ui-font-color1: white;\n",
       "                    --jp-layout-color2: #454545;\n",
       "                    background-color: #383838;\n",
       "                }\n",
       "                    \n",
       "                .geemap-dark .jupyter-button {\n",
       "                    --jp-layout-color3: #383838;\n",
       "                }\n",
       "                \n",
       "                .geemap-colab {\n",
       "                    background-color: var(--colab-primary-surface-color, white);\n",
       "                }\n",
       "                    \n",
       "                .geemap-colab .jupyter-button {\n",
       "                    --jp-layout-color3: var(--colab-primary-surface-color, white);\n",
       "                }\n",
       "            </style>\n",
       "            "
      ],
      "text/plain": [
       "<IPython.core.display.HTML object>"
      ]
     },
     "metadata": {},
     "output_type": "display_data"
    },
    {
     "data": {
      "application/vnd.jupyter.widget-view+json": {
       "model_id": "8ee3da2fa3b24478902c0e58e217610f",
       "version_major": 2,
       "version_minor": 0
      },
      "text/plain": [
       "Map(center=[40.0583, -74.4057], controls=(WidgetControl(options=['position', 'transparent_bg'], widget=SearchD…"
      ]
     },
     "execution_count": 7,
     "metadata": {},
     "output_type": "execute_result"
    }
   ],
   "source": [
    "Map = geemap.Map()\n",
    "\n",
    "dataset = ee.ImageCollection('USGS/NLCD_RELEASES/2021_REL/TCC/v2021-4')\n",
    "# Filter collection to 2021 and CONUS study area\n",
    "tcc = dataset.filter(ee.Filter.calendarRange(2021, 2021, 'year')) \\\n",
    "             .filter(ee.Filter.eq('study_area', 'CONUS')) \\\n",
    "             .first()\n",
    "\n",
    "# TCC palette\n",
    "tcc_palette = [\n",
    "    'CDA066', 'D7C29E', 'C2D096', 'B7D692', 'ADDD8E',\n",
    "    '78C679', '5CB86B', '41AB5D', '39A156', '329750',\n",
    "    '238443', '11763D', '006837', '004529'\n",
    "]\n",
    "\n",
    "# SE palette\n",
    "se_palette = ['000000', 'FFFFFF']\n",
    "\n",
    "# Add layers to the map\n",
    "Map.addLayer(tcc.select('data_mask'), {'min': 0, 'max': 2}, 'Data Mask', False)\n",
    "# Map.addLayer(tcc.select('Science_Percent_Tree_Canopy_Cover'), {'min': 0, 'max': 60, 'palette': tcc_palette}, 'Science Percent Tree Canopy Cover')\n",
    "# Map.addLayer(tcc.select('Science_Percent_Tree_Canopy_Cover_Standard_Error'), {'min': 0, 'max': 4000, 'palette': se_palette}, 'Science Percent Tree Canopy Cover Standard Error')\n",
    "Map.addLayer(tcc.select('NLCD_Percent_Tree_Canopy_Cover'), {'min': 0, 'max': 60, 'palette': tcc_palette}, 'NLCD Percent Tree Canopy Cover')\n",
    "\n",
    "# 1. World Settlement Footprint (WSF) 2015\n",
    "wsf_dataset = ee.Image('DLR/WSF/WSF2015/v1')\n",
    "wsf_vis = {'min': 0, 'max': 255}\n",
    "Map.addLayer(wsf_dataset, wsf_vis, 'Human settlement areas')\n",
    "\n",
    "# 2. Black Background Layer\n",
    "opacity = 0.75\n",
    "black_background = ee.Image(0)\n",
    "Map.addLayer(black_background, {}, 'Black background', True, opacity)\n",
    "\n",
    "# 3. Population Density (CIESIN/GPWv411/GPW_Population_Density)\n",
    "population_dataset = ee.ImageCollection('CIESIN/GPWv411/GPW_Population_Density').first()\n",
    "population_raster = population_dataset.select('population_density')\n",
    "population_vis = {\n",
    "    'max': 1000.0,\n",
    "    'palette': ['ffffe7', 'FFc869', 'ffac1d', 'e17735', 'f2552c', '9f0c21'],\n",
    "    'min': 200.0\n",
    "}\n",
    "Map.addLayer(population_raster, population_vis, 'population_density')\n",
    "\n",
    "# 4. Global Tidal Wetland Change (JCU/Murray/GIC/global_tidal_wetland_change/2019)\n",
    "tidal_dataset = ee.Image('JCU/Murray/GIC/global_tidal_wetland_change/2019')\n",
    "\n",
    "# Visualization settings for different layers in the dataset\n",
    "plasma = ['0d0887', '3d049b', '6903a5', '8d0fa1', 'ae2891', 'cb4679', 'df6363', 'f0844c', 'faa638', 'fbcc27', 'f0f921']\n",
    "loss_palette = ['fe4a49']\n",
    "gain_palette = ['2ab7ca']\n",
    "viridis = ['440154', '414487', '2a788e', '22a884', '7ad151', 'fde725']\n",
    "class_palette = ['9e9d9d', 'ededed', 'ff9900', '009966', '960000', '006699']\n",
    "\n",
    "# Adding each layer with its specific visualization\n",
    "# Map.addLayer(tidal_dataset.select('twprobabilityStart'), {'palette': plasma, 'min': 0, 'max': 100}, 'twprobabilityStart', False, 1)\n",
    "# Map.addLayer(tidal_dataset.select('twprobabilityEnd'), {'palette': plasma, 'min': 0, 'max': 100}, 'twprobabilityEnd', False, 1)\n",
    "Map.addLayer(tidal_dataset.select('loss'), {'palette': loss_palette, 'min': 1, 'max': 1}, 'Tidal wetland loss', True, 1)\n",
    "Map.addLayer(tidal_dataset.select('gain'), {'palette': gain_palette, 'min': 1, 'max': 1}, 'Tidal wetland gain', True, 1)\n",
    "# Map.addLayer(tidal_dataset.select('lossYear'), {'palette': viridis, 'min': 4, 'max': 19}, 'Year of loss', False, 0.9)\n",
    "# Map.addLayer(tidal_dataset.select('gainYear'), {'palette': viridis, 'min': 4, 'max': 19}, 'Year of gain', False, 0.9)\n",
    "# Map.addLayer(tidal_dataset.select('lossType'), {'palette': class_palette, 'min': 0, 'max': 5}, 'Loss type', False, 0.9)\n",
    "# Map.addLayer(tidal_dataset.select('gainType'), {'palette': class_palette, 'min': 0, 'max': 5}, 'Gain type', False, 0.9)\n",
    "\n",
    "# Bio-Intactness Dataset\n",
    "bdi_ic = ee.ImageCollection(\"projects/ebx-data/assets/earthblox/IO/BIOINTACT\")\n",
    "bdi_2017_20_comp = bdi_ic.mean()\n",
    "bdi_2017_comp = bdi_ic.filterDate('2017-01-01', '2017-12-31').mean()\n",
    "\n",
    "# Visualization for Bio-Intactness\n",
    "bdi_vis = {\n",
    "    'bands': ['BioIntactness'],\n",
    "    'min': 0,\n",
    "    'max': 1,\n",
    "    'palette': ['e5f5e0', 'a1d99b', '31a354']\n",
    "}\n",
    "\n",
    "# Add Bio-Intactness layers\n",
    "Map.addLayer(bdi_2017_20_comp, bdi_vis, \"composite 2017-20\")\n",
    "Map.addLayer(bdi_2017_comp, bdi_vis, \"composite 2017\")\n",
    "\n",
    "# Biodiversity Datasets\n",
    "biodiv_biome = ee.Image(\"projects/sat-io/open-datasets/naturemap/biodiversity/minshort_speciestargets_biome_esh10km_repruns10_ranked\")\n",
    "biodivcarbon = ee.Image(\"projects/sat-io/open-datasets/naturemap/biodiversity-carbon/minshort_speciestargets_carbon_esh10km_repruns10_ranked\")\n",
    "biodivcarbonwater = ee.Image(\"projects/sat-io/open-datasets/naturemap/biodiversity-carbon-water/minshort_speciestargets_carbon_water_esh10km_repruns10_ranked\")\n",
    "\n",
    "# Visualization for Biodiversity and Carbon\n",
    "biodiv_carbon_vis = {\n",
    "    'min': 1, \n",
    "    'max': 100, \n",
    "    'palette': ['7a0403', 'c92903', 'f56918', 'fbb938', 'c9ef34', '74fe5d', '1be5b5', '35abf8', '4662d8', '30123b']\n",
    "}\n",
    "\n",
    "# Add Biodiversity and Carbon layers\n",
    "Map.addLayer(biodivcarbon, biodiv_carbon_vis, \"Biodiversity and Carbon\")\n",
    "Map.addLayer(biodivcarbonwater, biodiv_carbon_vis, \"Biodiversity, Carbon, and Water\")\n",
    "\n",
    "# Top 10% Value for Biodiversity Only\n",
    "bio30x30 = biodivcarbon.expression(\"b(0) <= 10\")\n",
    "Map.addLayer(bio30x30.mask(bio30x30.eq(1)), {'palette': ['red']}, \"Top 10% value for biodiversity only\", False)\n",
    "\n",
    "dataset = ee.Image('UMD/hansen/global_forest_change_2022_v1_10')\n",
    "treeCoverVisParam = {\n",
    "  'bands': ['treecover2000'],\n",
    "  'min': 0,\n",
    "  'max': 100,\n",
    "  'palette': ['black', 'green']\n",
    "}\n",
    "Map.addLayer(dataset, treeCoverVisParam, 'tree cover')\n",
    "\n",
    "treeLossVisParam = {\n",
    "  'bands': ['lossyear'],\n",
    "  'min': 0,\n",
    "  'max': 22,\n",
    "  'palette': ['yellow', 'red']\n",
    "}\n",
    "Map.addLayer(dataset, treeLossVisParam, 'tree loss year')\n",
    "\n",
    "\n",
    "# Set the map center to New Jersey with an appropriate zoom level\n",
    "Map.setCenter(-74.4057, 40.0583, 7)  # Longitude, Latitude, Zoom Level\n",
    "\n",
    "# Show the map\n",
    "Map"
   ]
  },
  {
   "cell_type": "code",
   "execution_count": 13,
   "metadata": {},
   "outputs": [
    {
     "data": {
      "text/html": [
       "\n",
       "            <style>\n",
       "                .geemap-dark {\n",
       "                    --jp-widgets-color: white;\n",
       "                    --jp-widgets-label-color: white;\n",
       "                    --jp-ui-font-color1: white;\n",
       "                    --jp-layout-color2: #454545;\n",
       "                    background-color: #383838;\n",
       "                }\n",
       "                    \n",
       "                .geemap-dark .jupyter-button {\n",
       "                    --jp-layout-color3: #383838;\n",
       "                }\n",
       "                \n",
       "                .geemap-colab {\n",
       "                    background-color: var(--colab-primary-surface-color, white);\n",
       "                }\n",
       "                    \n",
       "                .geemap-colab .jupyter-button {\n",
       "                    --jp-layout-color3: var(--colab-primary-surface-color, white);\n",
       "                }\n",
       "            </style>\n",
       "            "
      ],
      "text/plain": [
       "<IPython.core.display.HTML object>"
      ]
     },
     "metadata": {},
     "output_type": "display_data"
    }
   ],
   "source": [
    "import pygris"
   ]
  },
  {
   "cell_type": "code",
   "execution_count": 15,
   "metadata": {},
   "outputs": [
    {
     "data": {
      "text/html": [
       "\n",
       "            <style>\n",
       "                .geemap-dark {\n",
       "                    --jp-widgets-color: white;\n",
       "                    --jp-widgets-label-color: white;\n",
       "                    --jp-ui-font-color1: white;\n",
       "                    --jp-layout-color2: #454545;\n",
       "                    background-color: #383838;\n",
       "                }\n",
       "                    \n",
       "                .geemap-dark .jupyter-button {\n",
       "                    --jp-layout-color3: #383838;\n",
       "                }\n",
       "                \n",
       "                .geemap-colab {\n",
       "                    background-color: var(--colab-primary-surface-color, white);\n",
       "                }\n",
       "                    \n",
       "                .geemap-colab .jupyter-button {\n",
       "                    --jp-layout-color3: var(--colab-primary-surface-color, white);\n",
       "                }\n",
       "            </style>\n",
       "            "
      ],
      "text/plain": [
       "<IPython.core.display.HTML object>"
      ]
     },
     "metadata": {},
     "output_type": "display_data"
    }
   ],
   "source": [
    "skylands = gpd.read_file(\"C:\\\\Users\\\\Nissim\\\\Downloads\\\\conversation_priority_areas_skylands.geojson\")"
   ]
  },
  {
   "cell_type": "code",
   "execution_count": 16,
   "metadata": {},
   "outputs": [
    {
     "data": {
      "text/html": [
       "\n",
       "            <style>\n",
       "                .geemap-dark {\n",
       "                    --jp-widgets-color: white;\n",
       "                    --jp-widgets-label-color: white;\n",
       "                    --jp-ui-font-color1: white;\n",
       "                    --jp-layout-color2: #454545;\n",
       "                    background-color: #383838;\n",
       "                }\n",
       "                    \n",
       "                .geemap-dark .jupyter-button {\n",
       "                    --jp-layout-color3: #383838;\n",
       "                }\n",
       "                \n",
       "                .geemap-colab {\n",
       "                    background-color: var(--colab-primary-surface-color, white);\n",
       "                }\n",
       "                    \n",
       "                .geemap-colab .jupyter-button {\n",
       "                    --jp-layout-color3: var(--colab-primary-surface-color, white);\n",
       "                }\n",
       "            </style>\n",
       "            "
      ],
      "text/plain": [
       "<IPython.core.display.HTML object>"
      ]
     },
     "metadata": {},
     "output_type": "display_data"
    },
    {
     "data": {
      "text/html": [
       "<div>\n",
       "<style scoped>\n",
       "    .dataframe tbody tr th:only-of-type {\n",
       "        vertical-align: middle;\n",
       "    }\n",
       "\n",
       "    .dataframe tbody tr th {\n",
       "        vertical-align: top;\n",
       "    }\n",
       "\n",
       "    .dataframe thead th {\n",
       "        text-align: right;\n",
       "    }\n",
       "</style>\n",
       "<table border=\"1\" class=\"dataframe\">\n",
       "  <thead>\n",
       "    <tr style=\"text-align: right;\">\n",
       "      <th></th>\n",
       "      <th>OBJECTID</th>\n",
       "      <th>SITECODE</th>\n",
       "      <th>SITENAME</th>\n",
       "      <th>VERSION</th>\n",
       "      <th>COUNTY</th>\n",
       "      <th>QUADNAME</th>\n",
       "      <th>MUNICIPALI</th>\n",
       "      <th>DESCRIPTIO</th>\n",
       "      <th>BOUNDJUST</th>\n",
       "      <th>BIODIVRANK</th>\n",
       "      <th>SITECLASS</th>\n",
       "      <th>BIODIVCOMM</th>\n",
       "      <th>Shape_Length</th>\n",
       "      <th>Shape_Area</th>\n",
       "      <th>geometry</th>\n",
       "    </tr>\n",
       "  </thead>\n",
       "  <tbody>\n",
       "    <tr>\n",
       "      <th>0</th>\n",
       "      <td>1</td>\n",
       "      <td>S.USNJHP1*148</td>\n",
       "      <td>Burnt Mills</td>\n",
       "      <td>2007_03</td>\n",
       "      <td>Somerset</td>\n",
       "      <td>Raritan ; Gladstone</td>\n",
       "      <td>Bedminster Twp ; Branchburg Twp</td>\n",
       "      <td>The site contains a large mature floodplain fo...</td>\n",
       "      <td>Primary bounds drawn to include mature floodpl...</td>\n",
       "      <td>B4V5</td>\n",
       "      <td>Standard Site</td>\n",
       "      <td>The site contains a good quality occurrence of...</td>\n",
       "      <td>16126.229345</td>\n",
       "      <td>8.952363e+06</td>\n",
       "      <td>POLYGON ((-74.68042 40.62887, -74.68042 40.628...</td>\n",
       "    </tr>\n",
       "    <tr>\n",
       "      <th>1</th>\n",
       "      <td>2</td>\n",
       "      <td>S.USNJHP1*149</td>\n",
       "      <td>Buttermilk Bridge Site</td>\n",
       "      <td>2007_03</td>\n",
       "      <td>Warren</td>\n",
       "      <td>Bloomsbury</td>\n",
       "      <td>Franklin Twp ; Washington Twp</td>\n",
       "      <td>Wooded slope adjacent to railroad.</td>\n",
       "      <td>Includes extent of upland habitat and railroad...</td>\n",
       "      <td>B5V1</td>\n",
       "      <td>Standard Site</td>\n",
       "      <td>Only known location of a state listed endanger...</td>\n",
       "      <td>42944.202966</td>\n",
       "      <td>2.023485e+07</td>\n",
       "      <td>POLYGON ((-75.01319 40.73544, -75.01318 40.735...</td>\n",
       "    </tr>\n",
       "    <tr>\n",
       "      <th>2</th>\n",
       "      <td>3</td>\n",
       "      <td>S.USNJHP1*100</td>\n",
       "      <td>Baseball Swamp Site</td>\n",
       "      <td>2007_03</td>\n",
       "      <td>Cape May</td>\n",
       "      <td>Stone Harbor</td>\n",
       "      <td>Middle Twp</td>\n",
       "      <td>The site is on the outer coastal plain of Cape...</td>\n",
       "      <td>The primary bounds include the headwater wetla...</td>\n",
       "      <td>B4</td>\n",
       "      <td>Standard Site</td>\n",
       "      <td>An occurrence of a state endangered, federally...</td>\n",
       "      <td>10737.013318</td>\n",
       "      <td>5.738767e+06</td>\n",
       "      <td>POLYGON ((-74.82519 39.10720, -74.82515 39.107...</td>\n",
       "    </tr>\n",
       "    <tr>\n",
       "      <th>3</th>\n",
       "      <td>4</td>\n",
       "      <td>S.USNJHP1*56</td>\n",
       "      <td>Batsto Macrosite</td>\n",
       "      <td>2007_03</td>\n",
       "      <td>Burlington ; Atlantic ; Camden</td>\n",
       "      <td>Atsion ; Indian Mills ; Jenkins ; Hammonton ; ...</td>\n",
       "      <td>Washington Twp ; Shamong Twp ; Hammonton Town ...</td>\n",
       "      <td>The site contains numerous pine barren savanna...</td>\n",
       "      <td>Boundaries were drawn to include undeveloped p...</td>\n",
       "      <td>B1</td>\n",
       "      <td>Macrosite</td>\n",
       "      <td>Numerous exemplary globally rare communities a...</td>\n",
       "      <td>233665.168678</td>\n",
       "      <td>2.025442e+09</td>\n",
       "      <td>POLYGON ((-74.63950 39.62514, -74.63949 39.625...</td>\n",
       "    </tr>\n",
       "    <tr>\n",
       "      <th>4</th>\n",
       "      <td>5</td>\n",
       "      <td>S.USNJHP1*104</td>\n",
       "      <td>Beagle Club Woods</td>\n",
       "      <td>2007_03</td>\n",
       "      <td>Camden</td>\n",
       "      <td>Clementon</td>\n",
       "      <td>Voorhees Twp</td>\n",
       "      <td>Extensive wooded swamp with spring seepage are...</td>\n",
       "      <td>Primary boundary includes extent of wetland ha...</td>\n",
       "      <td>B4</td>\n",
       "      <td>Standard Site</td>\n",
       "      <td>Occurrence of a federally listed threatened pl...</td>\n",
       "      <td>18292.030709</td>\n",
       "      <td>2.318913e+07</td>\n",
       "      <td>POLYGON ((-74.94452 39.84912, -74.94304 39.846...</td>\n",
       "    </tr>\n",
       "  </tbody>\n",
       "</table>\n",
       "</div>"
      ],
      "text/plain": [
       "   OBJECTID       SITECODE                SITENAME  VERSION  \\\n",
       "0         1  S.USNJHP1*148             Burnt Mills  2007_03   \n",
       "1         2  S.USNJHP1*149  Buttermilk Bridge Site  2007_03   \n",
       "2         3  S.USNJHP1*100     Baseball Swamp Site  2007_03   \n",
       "3         4   S.USNJHP1*56        Batsto Macrosite  2007_03   \n",
       "4         5  S.USNJHP1*104       Beagle Club Woods  2007_03   \n",
       "\n",
       "                           COUNTY  \\\n",
       "0                        Somerset   \n",
       "1                          Warren   \n",
       "2                        Cape May   \n",
       "3  Burlington ; Atlantic ; Camden   \n",
       "4                          Camden   \n",
       "\n",
       "                                            QUADNAME  \\\n",
       "0                                Raritan ; Gladstone   \n",
       "1                                         Bloomsbury   \n",
       "2                                       Stone Harbor   \n",
       "3  Atsion ; Indian Mills ; Jenkins ; Hammonton ; ...   \n",
       "4                                          Clementon   \n",
       "\n",
       "                                          MUNICIPALI  \\\n",
       "0                    Bedminster Twp ; Branchburg Twp   \n",
       "1                      Franklin Twp ; Washington Twp   \n",
       "2                                         Middle Twp   \n",
       "3  Washington Twp ; Shamong Twp ; Hammonton Town ...   \n",
       "4                                       Voorhees Twp   \n",
       "\n",
       "                                          DESCRIPTIO  \\\n",
       "0  The site contains a large mature floodplain fo...   \n",
       "1                 Wooded slope adjacent to railroad.   \n",
       "2  The site is on the outer coastal plain of Cape...   \n",
       "3  The site contains numerous pine barren savanna...   \n",
       "4  Extensive wooded swamp with spring seepage are...   \n",
       "\n",
       "                                           BOUNDJUST BIODIVRANK  \\\n",
       "0  Primary bounds drawn to include mature floodpl...       B4V5   \n",
       "1  Includes extent of upland habitat and railroad...       B5V1   \n",
       "2  The primary bounds include the headwater wetla...         B4   \n",
       "3  Boundaries were drawn to include undeveloped p...         B1   \n",
       "4  Primary boundary includes extent of wetland ha...         B4   \n",
       "\n",
       "       SITECLASS                                         BIODIVCOMM  \\\n",
       "0  Standard Site  The site contains a good quality occurrence of...   \n",
       "1  Standard Site  Only known location of a state listed endanger...   \n",
       "2  Standard Site  An occurrence of a state endangered, federally...   \n",
       "3      Macrosite  Numerous exemplary globally rare communities a...   \n",
       "4  Standard Site  Occurrence of a federally listed threatened pl...   \n",
       "\n",
       "    Shape_Length    Shape_Area  \\\n",
       "0   16126.229345  8.952363e+06   \n",
       "1   42944.202966  2.023485e+07   \n",
       "2   10737.013318  5.738767e+06   \n",
       "3  233665.168678  2.025442e+09   \n",
       "4   18292.030709  2.318913e+07   \n",
       "\n",
       "                                            geometry  \n",
       "0  POLYGON ((-74.68042 40.62887, -74.68042 40.628...  \n",
       "1  POLYGON ((-75.01319 40.73544, -75.01318 40.735...  \n",
       "2  POLYGON ((-74.82519 39.10720, -74.82515 39.107...  \n",
       "3  POLYGON ((-74.63950 39.62514, -74.63949 39.625...  \n",
       "4  POLYGON ((-74.94452 39.84912, -74.94304 39.846...  "
      ]
     },
     "execution_count": 16,
     "metadata": {},
     "output_type": "execute_result"
    }
   ],
   "source": [
    "skylands.head()"
   ]
  },
  {
   "cell_type": "code",
   "execution_count": 9,
   "metadata": {},
   "outputs": [
    {
     "data": {
      "text/html": [
       "\n",
       "            <style>\n",
       "                .geemap-dark {\n",
       "                    --jp-widgets-color: white;\n",
       "                    --jp-widgets-label-color: white;\n",
       "                    --jp-ui-font-color1: white;\n",
       "                    --jp-layout-color2: #454545;\n",
       "                    background-color: #383838;\n",
       "                }\n",
       "                    \n",
       "                .geemap-dark .jupyter-button {\n",
       "                    --jp-layout-color3: #383838;\n",
       "                }\n",
       "                \n",
       "                .geemap-colab {\n",
       "                    background-color: var(--colab-primary-surface-color, white);\n",
       "                }\n",
       "                    \n",
       "                .geemap-colab .jupyter-button {\n",
       "                    --jp-layout-color3: var(--colab-primary-surface-color, white);\n",
       "                }\n",
       "            </style>\n",
       "            "
      ],
      "text/plain": [
       "<IPython.core.display.HTML object>"
      ]
     },
     "metadata": {},
     "output_type": "display_data"
    },
    {
     "ename": "ModuleNotFoundError",
     "evalue": "No module named 'geemap.gpd_to_ee'",
     "output_type": "error",
     "traceback": [
      "\u001b[1;31m---------------------------------------------------------------------------\u001b[0m",
      "\u001b[1;31mModuleNotFoundError\u001b[0m                       Traceback (most recent call last)",
      "Cell \u001b[1;32mIn[9], line 1\u001b[0m\n\u001b[1;32m----> 1\u001b[0m \u001b[38;5;28;01mimport\u001b[39;00m \u001b[38;5;21;01mgeemap\u001b[39;00m\u001b[38;5;21;01m.\u001b[39;00m\u001b[38;5;21;01mgpd_to_ee\u001b[39;00m\n\u001b[0;32m      2\u001b[0m nj_ee_geometry \u001b[38;5;241m=\u001b[39m geemap\u001b[38;5;241m.\u001b[39mgpd_to_ee(states)\n",
      "\u001b[1;31mModuleNotFoundError\u001b[0m: No module named 'geemap.gpd_to_ee'"
     ]
    }
   ],
   "source": [
    "import geemap.gpd_to_ee\n",
    "nj_ee_geometry = geemap.gpd_to_ee(states)"
   ]
  },
  {
   "cell_type": "code",
   "execution_count": null,
   "metadata": {},
   "outputs": [],
   "source": [
    "tcc_clipped = tcc.clip(nj_ee_geometry)"
   ]
  },
  {
   "cell_type": "code",
   "execution_count": null,
   "metadata": {},
   "outputs": [],
   "source": [
    "task = ee.batch.Export.image.toDrive(**{\n",
    "  'image': tcc_clipped,\n",
    "  'description': 'tcc_clipped_to_NJ',\n",
    "  'folder': 'ExportedImages',\n",
    "  'scale': 30,  # Specify appropriate scale for your dataset\n",
    "  'region': nj_ee_geometry,\n",
    "  'fileFormat': 'GeoTIFF'\n",
    "})\n",
    "task.start()"
   ]
  }
 ],
 "metadata": {
  "kernelspec": {
   "display_name": "flood-mapping-RdsxPmyg-py3.9",
   "language": "python",
   "name": "python3"
  },
  "language_info": {
   "codemirror_mode": {
    "name": "ipython",
    "version": 3
   },
   "file_extension": ".py",
   "mimetype": "text/x-python",
   "name": "python",
   "nbconvert_exporter": "python",
   "pygments_lexer": "ipython3",
   "version": "3.9.16"
  }
 },
 "nbformat": 4,
 "nbformat_minor": 2
}
