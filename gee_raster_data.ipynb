{
 "cells": [
  {
   "cell_type": "code",
   "execution_count": 1,
   "metadata": {},
   "outputs": [],
   "source": [
    "import ee\n",
    "import geemap\n",
    "import geopandas as gpd\n",
    "import pygris\n",
    "from pygris import states\n",
    "import rasterio\n",
    "import fiona"
   ]
  },
  {
   "cell_type": "code",
   "execution_count": 2,
   "metadata": {},
   "outputs": [
    {
     "data": {
      "text/html": [
       "\n",
       "            <style>\n",
       "                .geemap-dark {\n",
       "                    --jp-widgets-color: white;\n",
       "                    --jp-widgets-label-color: white;\n",
       "                    --jp-ui-font-color1: white;\n",
       "                    --jp-layout-color2: #454545;\n",
       "                    background-color: #383838;\n",
       "                }\n",
       "                    \n",
       "                .geemap-dark .jupyter-button {\n",
       "                    --jp-layout-color3: #383838;\n",
       "                }\n",
       "                \n",
       "                .geemap-colab {\n",
       "                    background-color: var(--colab-primary-surface-color, white);\n",
       "                }\n",
       "                    \n",
       "                .geemap-colab .jupyter-button {\n",
       "                    --jp-layout-color3: var(--colab-primary-surface-color, white);\n",
       "                }\n",
       "            </style>\n",
       "            "
      ],
      "text/plain": [
       "<IPython.core.display.HTML object>"
      ]
     },
     "metadata": {},
     "output_type": "display_data"
    },
    {
     "data": {
      "text/html": [
       "<p>To authorize access needed by Earth Engine, open the following\n",
       "        URL in a web browser and follow the instructions:</p>\n",
       "        <p><a href=https://code.earthengine.google.com/client-auth?scopes=https%3A//www.googleapis.com/auth/earthengine%20https%3A//www.googleapis.com/auth/devstorage.full_control&request_id=23lWhyvJb_0H9ODqEadyJyaJ54aAZOx9-Iww00OuC4k&tc=TrfrhhGv7I4TuFL127PDhXDF5ijTZAceQT24GK7SOb4&cc=-l57KD7iq9DfNgLPG12iy3GAt4uaXWgs4Mn1M-2Fm_w>https://code.earthengine.google.com/client-auth?scopes=https%3A//www.googleapis.com/auth/earthengine%20https%3A//www.googleapis.com/auth/devstorage.full_control&request_id=23lWhyvJb_0H9ODqEadyJyaJ54aAZOx9-Iww00OuC4k&tc=TrfrhhGv7I4TuFL127PDhXDF5ijTZAceQT24GK7SOb4&cc=-l57KD7iq9DfNgLPG12iy3GAt4uaXWgs4Mn1M-2Fm_w</a></p>\n",
       "        <p>The authorization workflow will generate a code, which you should paste in the box below.</p>\n",
       "        "
      ],
      "text/plain": [
       "<IPython.core.display.HTML object>"
      ]
     },
     "metadata": {},
     "output_type": "display_data"
    },
    {
     "name": "stdout",
     "output_type": "stream",
     "text": [
      "\n",
      "Successfully saved authorization token.\n"
     ]
    }
   ],
   "source": [
    "# ee.Authenticate()\n",
    "ee.Initialize(project='hotspotstoplight')"
   ]
  },
  {
   "cell_type": "code",
   "execution_count": 3,
   "metadata": {},
   "outputs": [
    {
     "data": {
      "text/html": [
       "\n",
       "            <style>\n",
       "                .geemap-dark {\n",
       "                    --jp-widgets-color: white;\n",
       "                    --jp-widgets-label-color: white;\n",
       "                    --jp-ui-font-color1: white;\n",
       "                    --jp-layout-color2: #454545;\n",
       "                    background-color: #383838;\n",
       "                }\n",
       "                    \n",
       "                .geemap-dark .jupyter-button {\n",
       "                    --jp-layout-color3: #383838;\n",
       "                }\n",
       "                \n",
       "                .geemap-colab {\n",
       "                    background-color: var(--colab-primary-surface-color, white);\n",
       "                }\n",
       "                    \n",
       "                .geemap-colab .jupyter-button {\n",
       "                    --jp-layout-color3: var(--colab-primary-surface-color, white);\n",
       "                }\n",
       "            </style>\n",
       "            "
      ],
      "text/plain": [
       "<IPython.core.display.HTML object>"
      ]
     },
     "metadata": {},
     "output_type": "display_data"
    }
   ],
   "source": [
    "us = states(cb = True, resolution = \"20m\")\n",
    "nj = us[us['NAME'] == 'New Jersey']\n",
    "nj_ee = geemap.geopandas_to_ee(nj)\n",
    "\n",
    "# Create a Map\n",
    "Map = geemap.Map()\n",
    "\n",
    "Map.addLayerControl()\n",
    "\n",
    "# Filter the NLCD Tree Canopy Cover (TCC) for 2021 and CONUS\n",
    "dataset = ee.ImageCollection('USGS/NLCD_RELEASES/2021_REL/TCC/v2021-4')\n",
    "tcc = dataset.filter(ee.Filter.calendarRange(2021, 2021, 'year')) \\\n",
    "             .filter(ee.Filter.eq('study_area', 'CONUS')) \\\n",
    "             .first() \\\n",
    "             .clip(nj_ee)  # Clip to NJ boundaries\n",
    "\n",
    "# Add TCC layer\n",
    "Map.addLayer(tcc.select('NLCD_Percent_Tree_Canopy_Cover'), {'min': 0, 'max': 60, 'palette': tcc_palette}, 'NLCD Percent Tree Canopy Cover')\n",
    "\n",
    "# World Settlement Footprint (WSF) 2015 clipped to NJ\n",
    "wsf_dataset = ee.Image('DLR/WSF/WSF2015/v1').clip(nj_ee)\n",
    "Map.addLayer(wsf_dataset, wsf_vis, 'Human settlement areas')\n",
    "\n",
    "# Population Density clipped to NJ\n",
    "population_dataset = ee.ImageCollection('CIESIN/GPWv411/GPW_Population_Density').first().clip(nj_ee)\n",
    "Map.addLayer(population_dataset, population_vis, 'Population Density')\n",
    "\n",
    "# Global Tidal Wetland Change 2019 clipped to NJ\n",
    "tidal_dataset = ee.Image('JCU/Murray/GIC/global_tidal_wetland_change/2019').clip(nj_ee)\n",
    "Map.addLayer(tidal_dataset.select('loss'), {'palette': loss_palette, 'min': 1, 'max': 1}, 'Tidal Wetland Loss')\n",
    "Map.addLayer(tidal_dataset.select('gain'), {'palette': gain_palette, 'min': 1, 'max': 1}, 'Tidal Wetland Gain')\n",
    "\n",
    "# Bio-Intactness Dataset clipped to NJ\n",
    "bdi_ic = ee.ImageCollection(\"projects/ebx-data/assets/earthblox/IO/BIOINTACT\").mean().clip(nj_ee)\n",
    "Map.addLayer(bdi_ic, bdi_vis, \"Bio-Intactness\")\n",
    "\n",
    "# Biodiversity, Carbon, and Water datasets clipped to NJ\n",
    "biodiv_biome_clipped = biodiv_biome.clip(nj_ee)\n",
    "biodivcarbon_clipped = biodivcarbon.clip(nj_ee)\n",
    "biodivcarbonwater_clipped = biodivcarbonwater.clip(nj_ee)\n",
    "\n",
    "# Add Biodiversity and Carbon layers\n",
    "Map.addLayer(biodivcarbon_clipped, biodiv_carbon_vis, \"Biodiversity and Carbon\")\n",
    "Map.addLayer(biodivcarbonwater_clipped, biodiv_carbon_vis, \"Biodiversity, Carbon, and Water\")\n",
    "\n",
    "# Global Forest Change dataset clipped to NJ\n",
    "gfc_dataset = ee.Image('UMD/hansen/global_forest_change_2022_v1_10').clip(nj_ee)\n",
    "Map.addLayer(gfc_dataset, treeCoverVisParam, 'Tree Cover')\n",
    "Map.addLayer(gfc_dataset, treeLossVisParam, 'Tree Loss Year')\n",
    "\n",
    "# Set the map center to New Jersey with an appropriate zoom level\n",
    "Map.setCenter(-74.4057, 40.0583, 7)  # Longitude, Latitude, Zoom Level\n",
    "\n",
    "# Show the map\n",
    "Map"
   ]
  },
  {
   "cell_type": "code",
   "execution_count": 4,
   "metadata": {},
   "outputs": [
    {
     "data": {
      "text/html": [
       "\n",
       "            <style>\n",
       "                .geemap-dark {\n",
       "                    --jp-widgets-color: white;\n",
       "                    --jp-widgets-label-color: white;\n",
       "                    --jp-ui-font-color1: white;\n",
       "                    --jp-layout-color2: #454545;\n",
       "                    background-color: #383838;\n",
       "                }\n",
       "                    \n",
       "                .geemap-dark .jupyter-button {\n",
       "                    --jp-layout-color3: #383838;\n",
       "                }\n",
       "                \n",
       "                .geemap-colab {\n",
       "                    background-color: var(--colab-primary-surface-color, white);\n",
       "                }\n",
       "                    \n",
       "                .geemap-colab .jupyter-button {\n",
       "                    --jp-layout-color3: var(--colab-primary-surface-color, white);\n",
       "                }\n",
       "            </style>\n",
       "            "
      ],
      "text/plain": [
       "<IPython.core.display.HTML object>"
      ]
     },
     "metadata": {},
     "output_type": "display_data"
    }
   ],
   "source": [
    "def export_to_drive(image, description, folder, region, scale=250):\n",
    "    task = ee.batch.Export.image.toDrive(\n",
    "        image=image,\n",
    "        description=description,\n",
    "        folder=folder,\n",
    "        scale=scale,\n",
    "        region=region.geometry().bounds().getInfo()['coordinates'],\n",
    "        fileFormat='GeoTIFF'\n",
    "    )\n",
    "    task.start()\n",
    "\n",
    "# Assuming 'nj_ee' is your Earth Engine geometry for New Jersey\n",
    "# Assuming each dataset is clipped to 'nj_ee' and ready for export\n",
    "\n",
    "# Dictionary of datasets and their names for export\n",
    "datasets = {\n",
    "    'TCC_NJ': tcc.select('NLCD_Percent_Tree_Canopy_Cover'),\n",
    "    'WSF2015_NJ': wsf_dataset,\n",
    "    'PopulationDensity_NJ': population_dataset,\n",
    "    'TidalWetlandChange2019_NJ': tidal_dataset,\n",
    "    # Add more datasets here as needed\n",
    "}\n",
    "\n",
    "# Folder name in Google Drive\n",
    "folder_name = \"MACH Studio Data\"\n",
    "\n",
    "# Iterate over the datasets dictionary and export each\n",
    "for description, image in datasets.items():\n",
    "    export_to_drive(image, description, folder_name, nj_ee)\n",
    "\n",
    "print(\"Export tasks started. Check the 'Tasks' tab in the Google Earth Engine Code Editor for progress.\")"
   ]
  }
 ],
 "metadata": {
  "kernelspec": {
   "display_name": "flood-mapping-RdsxPmyg-py3.9",
   "language": "python",
   "name": "python3"
  },
  "language_info": {
   "codemirror_mode": {
    "name": "ipython",
    "version": 3
   },
   "file_extension": ".py",
   "mimetype": "text/x-python",
   "name": "python",
   "nbconvert_exporter": "python",
   "pygments_lexer": "ipython3",
   "version": "3.9.16"
  }
 },
 "nbformat": 4,
 "nbformat_minor": 2
}
